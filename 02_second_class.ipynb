{
 "cells": [
  {
   "cell_type": "code",
   "execution_count": 5,
   "id": "10098f2b-419c-47a9-8608-46bbdf1bd068",
   "metadata": {},
   "outputs": [
    {
     "name": "stdout",
     "output_type": "stream",
     "text": [
      "{'id': 1, 'name': 'Mohit', 'age': 22, 'conatct': 9845098789, 'salary': 678900.8} <class 'dict'>\n"
     ]
    }
   ],
   "source": [
    "#ddictionary datatype\n",
    "person = {\n",
    "    \"id\" : 1,\n",
    "    \"name\" : \"Mohit\",\n",
    "    \"age\" : 22,\n",
    "    \"conatct\" : 9845098789,\n",
    "    \"salary\" : 678900.8, #last comma is optional\n",
    "}\n",
    "print(person, type(person))"
   ]
  },
  {
   "cell_type": "code",
   "execution_count": 15,
   "id": "36bf5b8b-53b7-4292-a653-59ff40da162f",
   "metadata": {},
   "outputs": [
    {
     "name": "stdout",
     "output_type": "stream",
     "text": [
      "{'id': 1, 'name': 'Mohit', 'age': 22, 'conatct': 9845098789, 'salary': 678900.8, 'email': 'chandmohit002@gmail.com'}\n",
      "{'id': 1, 'name': 'Mohit', 'conatct': 9845098789, 'salary': 678900.8, 'email': 'chandmohit002@gmail.com'}\n",
      "{}\n"
     ]
    }
   ],
   "source": [
    "person = {\n",
    "    \"id\" : 1,\n",
    "    \"name\" : \"Mohit\",\n",
    "    \"age\" : 22,\n",
    "    \"conatct\" : 9845098789,\n",
    "    \"salary\" : 678900.8, #last comma is optional\n",
    "}\n",
    "person[\"name\"] #accessing value\n",
    "person['email']='chandmohit002@gmail.com' #adding key value pair to existing \n",
    "print(person)\n",
    "del person['age']#removing an entry\n",
    "print(person)\n",
    "person.clear() #clear whole dictionary\n",
    "print(person)"
   ]
  },
  {
   "cell_type": "code",
   "execution_count": 17,
   "id": "040f95d6-3750-4f84-aa30-8339fb3b2282",
   "metadata": {},
   "outputs": [
    {
     "name": "stdout",
     "output_type": "stream",
     "text": [
      "{'id': 1, 'name': 'Mohit', 'age': 22, 'conatct': 9845098789, 'salary': 678900.8, 'email': 'chandmohit002@gmail.com'}\n",
      "{'id': 1, 'name': 'Mohit', 'age': 22, 'conatct': 9845098789, 'salary': 678900.8, 'email': 'chandmohit002@gmail.com'}\n"
     ]
    }
   ],
   "source": [
    "x = {\n",
    "    \"id\" : 1,\n",
    "    \"name\" : \"Mohit\",\n",
    "    \"age\" : 22,\n",
    "    \"conatct\" : 9845098789,\n",
    "    \"salary\" : 678900.8,\n",
    "}\n",
    "y=x\n",
    "y['email'] = 'chandmohit002@gmail.com' #adds new entry to both dictionaries\n",
    "print(x)\n",
    "print(y)"
   ]
  },
  {
   "cell_type": "code",
   "execution_count": 19,
   "id": "fe29806c-8dcb-4d51-9d74-6f42aa13c3b9",
   "metadata": {},
   "outputs": [
    {
     "name": "stdout",
     "output_type": "stream",
     "text": [
      "{'id': 1, 'name': 'Mohit', 'age': 22, 'conatct': 9845098789, 'salary': 678900.8}\n",
      "{'id': 1, 'name': 'Mohit', 'age': 22, 'conatct': 9845098789, 'salary': 678900.8, 'email': 'chandmohit002@gmail.com'}\n"
     ]
    }
   ],
   "source": [
    "x = {\n",
    "    \"id\" : 1,\n",
    "    \"name\" : \"Mohit\",\n",
    "    \"age\" : 22,\n",
    "    \"conatct\" : 9845098789,\n",
    "    \"salary\" : 678900.8,\n",
    "}\n",
    "y=x.copy() #copy() is used\n",
    "y['email'] = 'chandmohit002@gmail.com' #adds new entry to y  dictionary only\n",
    "print(x)\n",
    "print(y)"
   ]
  },
  {
   "cell_type": "code",
   "execution_count": 26,
   "id": "1030cf86-b31f-4cab-a6d6-9493d649fd03",
   "metadata": {},
   "outputs": [
    {
     "name": "stdout",
     "output_type": "stream",
     "text": [
      "dict_keys(['id', 'name', 'age', 'conatct', 'salary', 'address'])\n"
     ]
    }
   ],
   "source": [
    "person = {\n",
    "    \"id\" : 1,\n",
    "    \"name\" : \"Mohit\",\n",
    "    \"age\" : 22,\n",
    "    \"conatct\" : 9845098789,\n",
    "    \"salary\" : 678900.8,\n",
    "    'address' : \"mnr\",\n",
    "}\n",
    "print(person.keys())"
   ]
  },
  {
   "cell_type": "code",
   "execution_count": 30,
   "id": "900f03df-5512-46ee-86f4-50cb90ba7161",
   "metadata": {},
   "outputs": [
    {
     "name": "stdout",
     "output_type": "stream",
     "text": [
      "dict_values([1, 'Mohit', 22, 9845098789, 678900.8])\n"
     ]
    }
   ],
   "source": [
    "person = {\n",
    "    \"id\" : 1,\n",
    "    \"name\" : \"Mohit\",\n",
    "    \"age\" : 22,\n",
    "    \"conatct\" : 9845098789,\n",
    "    \"salary\" : 678900.8,\n",
    "}\n",
    "print(person.values())"
   ]
  },
  {
   "cell_type": "code",
   "execution_count": 32,
   "id": "ca48f1f9-6ae3-42bf-b70b-768448d59bb2",
   "metadata": {},
   "outputs": [
    {
     "name": "stdout",
     "output_type": "stream",
     "text": [
      "dict_items([('id', 1), ('name', 'Mohit'), ('age', 22), ('conatct', 9845098789), ('salary', 678900.8)])\n"
     ]
    }
   ],
   "source": [
    "person = {\n",
    "    \"id\" : 1,\n",
    "    \"name\" : \"Mohit\",\n",
    "    \"age\" : 22,\n",
    "    \"conatct\" : 9845098789,\n",
    "    \"salary\" : 678900.8,\n",
    "}\n",
    "print(person.items())"
   ]
  },
  {
   "cell_type": "code",
   "execution_count": 36,
   "id": "3d71d70c-d9a7-45fc-a6dd-c37a4f6eadcb",
   "metadata": {},
   "outputs": [
    {
     "name": "stdout",
     "output_type": "stream",
     "text": [
      "{'id': 1, 'name': 'Mohit', 'age': 22, 'conatct': 9845098789, 'salary': 678900.8, 'email': 'chandmohit002@gmail.com', 'college': 'snsc'}\n"
     ]
    }
   ],
   "source": [
    "person = {\n",
    "    \"id\" : 1,\n",
    "    \"name\" : \"Mohit\",\n",
    "    \"age\" : 22,\n",
    "    \"conatct\" : 9845098789,\n",
    "    \"salary\" : 678900.8,\n",
    "}\n",
    "person.update({'email':'chandmohit002@gmail.com','college': 'snsc'})\n",
    "print(person)"
   ]
  },
  {
   "cell_type": "code",
   "execution_count": 42,
   "id": "0ba5c015-c35b-4f6b-ac6d-b00363ac95cd",
   "metadata": {},
   "outputs": [
    {
     "name": "stdout",
     "output_type": "stream",
     "text": [
      "{1, 2, 3, 4, 5} <class 'set'>\n"
     ]
    }
   ],
   "source": [
    "#set datatype\n",
    "s ={1,2,3,4,5}\n",
    "print(s,type(s))"
   ]
  },
  {
   "cell_type": "code",
   "execution_count": 44,
   "id": "b9140510-714a-4a33-a5ff-93c73b9e68fb",
   "metadata": {},
   "outputs": [
    {
     "name": "stdout",
     "output_type": "stream",
     "text": [
      "{1, 3, 4.5, (7, 8, 9), 'hari', 'shyam', 'ram'}\n"
     ]
    }
   ],
   "source": [
    "s = {'ram',1,'hari',4.5,3,'shyam',(7,8,9)}\n",
    "print(s)\n",
    "#set is unordered collection"
   ]
  },
  {
   "cell_type": "code",
   "execution_count": 48,
   "id": "789f796a-e7e4-4522-91b9-647901f94762",
   "metadata": {},
   "outputs": [
    {
     "name": "stdout",
     "output_type": "stream",
     "text": [
      "{1, 3, 4.5, (7, 8, 9), 'hari', 'shyam', 'ram'}\n"
     ]
    }
   ],
   "source": [
    "s = {'ram',1,'hari',4.5,3,'shyam',1,3,'ram',(7,8,9)}\n",
    "print(s)\n",
    "#set is a unique unordered collection repetition dont printed twice or more"
   ]
  },
  {
   "cell_type": "code",
   "execution_count": 50,
   "id": "54fcd56f-cad0-409c-82a2-9a3d37797a83",
   "metadata": {},
   "outputs": [
    {
     "ename": "TypeError",
     "evalue": "unhashable type: 'list'",
     "output_type": "error",
     "traceback": [
      "\u001b[1;31m---------------------------------------------------------------------------\u001b[0m",
      "\u001b[1;31mTypeError\u001b[0m                                 Traceback (most recent call last)",
      "Cell \u001b[1;32mIn[50], line 2\u001b[0m\n\u001b[0;32m      1\u001b[0m \u001b[38;5;66;03m# set cannot store mutable/unhashable datstructure\u001b[39;00m\n\u001b[1;32m----> 2\u001b[0m s \u001b[38;5;241m=\u001b[39m {\u001b[38;5;124m'\u001b[39m\u001b[38;5;124mram\u001b[39m\u001b[38;5;124m'\u001b[39m,\u001b[38;5;241m1\u001b[39m,\u001b[38;5;124m'\u001b[39m\u001b[38;5;124mhari\u001b[39m\u001b[38;5;124m'\u001b[39m,\u001b[38;5;241m4.5\u001b[39m,\u001b[38;5;241m3\u001b[39m,\u001b[38;5;124m'\u001b[39m\u001b[38;5;124mshyam\u001b[39m\u001b[38;5;124m'\u001b[39m,(\u001b[38;5;241m7\u001b[39m,\u001b[38;5;241m8\u001b[39m,\u001b[38;5;241m9\u001b[39m),[\u001b[38;5;241m4\u001b[39m,\u001b[38;5;241m5\u001b[39m,\u001b[38;5;241m6\u001b[39m]}\n\u001b[0;32m      3\u001b[0m \u001b[38;5;28mprint\u001b[39m(s)\n",
      "\u001b[1;31mTypeError\u001b[0m: unhashable type: 'list'"
     ]
    }
   ],
   "source": [
    "# set cannot store mutable/unhashable datstructure\n",
    "s = {'ram',1,'hari',4.5,3,'shyam',(7,8,9),[4,5,6]}   #cannot store list in set\n",
    "print(s)"
   ]
  },
  {
   "cell_type": "code",
   "execution_count": 52,
   "id": "739287ba-a9e0-49ca-b9ba-25323a9559ad",
   "metadata": {},
   "outputs": [],
   "source": [
    "empty_string = ''  #str\n",
    "empty_list = []    #list\n",
    "empty_tuple  = ()  #tuple\n",
    "empty_dict = {}    #dict\n",
    "empty_set = set()  #set"
   ]
  },
  {
   "cell_type": "code",
   "execution_count": 56,
   "id": "4b467136-09d2-44e2-b3ce-c582f6abaf91",
   "metadata": {},
   "outputs": [
    {
     "name": "stdout",
     "output_type": "stream",
     "text": [
      "{'gita', 'sita', 'hari', 'shyam', 'ram'}\n"
     ]
    }
   ],
   "source": [
    "tea = {'ram','hari','sita'}\n",
    "coffee = {'shyam','sita','gita'}\n",
    "tea_or_coffee = tea | coffee #union\n",
    "tea_or_coffee = tea.union(coffee) #another way to union\n",
    "print(tea_or_coffee)"
   ]
  },
  {
   "cell_type": "code",
   "execution_count": 58,
   "id": "0c21a91e-abc4-403d-8cf4-3d03d45c758b",
   "metadata": {},
   "outputs": [
    {
     "name": "stdout",
     "output_type": "stream",
     "text": [
      "{'sita'}\n"
     ]
    }
   ],
   "source": [
    "tea = {'ram','hari','sita'}\n",
    "coffee = {'shyam','sita','gita'}\n",
    "tea_and_coffee = tea & coffee  #intersection\n",
    "tea_and_coffee = tea.intersection(coffee)  #another way to intersection\n",
    "print(tea_and_coffee)"
   ]
  },
  {
   "cell_type": "code",
   "execution_count": 62,
   "id": "4b6cc92d-266a-45bb-a542-394f31f387b4",
   "metadata": {},
   "outputs": [
    {
     "name": "stdout",
     "output_type": "stream",
     "text": [
      "{'hari', 'ram'}\n"
     ]
    }
   ],
   "source": [
    "tea = {'ram','hari','sita'}\n",
    "coffee = {'shyam','sita','gita'}\n",
    "tea_only = tea - coffee #difference\n",
    "tea_only = tea.difference(coffee)  #another way to difference\n",
    "print(tea_only)"
   ]
  },
  {
   "cell_type": "code",
   "execution_count": 64,
   "id": "f20187fd-2dda-4bf2-bcbb-9229cdcdf3d6",
   "metadata": {},
   "outputs": [
    {
     "name": "stdout",
     "output_type": "stream",
     "text": [
      "{'shyam', 'gita'}\n"
     ]
    }
   ],
   "source": [
    "tea = {'ram','hari','sita'}\n",
    "coffee = {'shyam','sita','gita'}\n",
    "coffee_only = coffee - tea #difference\n",
    "print(coffee_only)"
   ]
  },
  {
   "cell_type": "code",
   "execution_count": 66,
   "id": "79478c63-f84d-480b-989f-e3f0e6d87f22",
   "metadata": {},
   "outputs": [
    {
     "name": "stdout",
     "output_type": "stream",
     "text": [
      "{'hari', 'ram', 'shyam', 'gita'}\n"
     ]
    }
   ],
   "source": [
    "tea = {'ram','hari','sita'}\n",
    "coffee = {'shyam','sita','gita'}\n",
    "tea_only_or_coffee_only = tea.symmetric_difference(coffee)\n",
    "print(tea_only_or_coffee_only)"
   ]
  },
  {
   "cell_type": "code",
   "execution_count": 68,
   "id": "d80242cd-0f84-44a3-b490-c97c0d0fad19",
   "metadata": {},
   "outputs": [],
   "source": [
    "# set is a mutable datstructure => canbe changed once declared"
   ]
  },
  {
   "cell_type": "code",
   "execution_count": 72,
   "id": "3ada79c6-0991-461d-9d82-97607ae729d7",
   "metadata": {},
   "outputs": [
    {
     "name": "stdout",
     "output_type": "stream",
     "text": [
      "{1, '33', 3, 4.5, (7, 8, 9), 'hari', 'shyam', 'ram'}\n",
      "set()\n"
     ]
    }
   ],
   "source": [
    "s = {'ram',1,'hari',4.5,3,'shyam',(7,8,9)}\n",
    "s.add('33')  #new entry canbe added but order is not fixed\n",
    "print(s)\n",
    "s.clear()\n",
    "print(s)"
   ]
  },
  {
   "cell_type": "code",
   "execution_count": 74,
   "id": "21c55aec-4bc5-4c19-a466-b8607847e88c",
   "metadata": {},
   "outputs": [
    {
     "name": "stdout",
     "output_type": "stream",
     "text": [
      "{1, 3, 4.5, (7, 8, 9), 'hari', 'shyam', 'ram', (1, 2, 3)}\n"
     ]
    }
   ],
   "source": [
    "s = {'ram',1,'hari',4.5,3,'shyam',(7,8,9)}\n",
    "s.add((1,2,3))\n",
    "print(s)"
   ]
  },
  {
   "cell_type": "code",
   "execution_count": 78,
   "id": "e1c637a3-f953-44cd-8ab6-ef78856d5237",
   "metadata": {},
   "outputs": [
    {
     "name": "stdout",
     "output_type": "stream",
     "text": [
      "{1, 2, 3, 4.5, (7, 8, 9), 'hari', 'shyam', 'ram'}\n"
     ]
    }
   ],
   "source": [
    "s = {'ram',1,'hari',4.5,3,'shyam',(7,8,9)}\n",
    "s.update((1,2,3))\n",
    "print(s)"
   ]
  },
  {
   "cell_type": "code",
   "execution_count": 86,
   "id": "239cfeda-13c6-4d98-8ac1-c519a62e93a8",
   "metadata": {},
   "outputs": [
    {
     "name": "stdout",
     "output_type": "stream",
     "text": [
      "{3, 4.5, (7, 8, 9), 'hari', 'shyam', 'ram'}\n"
     ]
    }
   ],
   "source": [
    "s = {'ram',1,'hari',4.5,3,'shyam',(7,8,9)}\n",
    "s.remove(1)\n",
    "print(s)"
   ]
  },
  {
   "cell_type": "code",
   "execution_count": 90,
   "id": "cbedfb9b-bf9d-4194-93d4-145e5c328621",
   "metadata": {},
   "outputs": [
    {
     "name": "stdout",
     "output_type": "stream",
     "text": [
      "{1, 3, 4.5, (7, 8, 9), 'hari', 'shyam', 'ram'}\n"
     ]
    }
   ],
   "source": [
    "s = {'ram',1,'hari',4.5,3,'shyam',(7,8,9)}\n",
    "s.discard(11)  #doesnot throw error eventhough there is no 11 in set \n",
    "print(s)"
   ]
  },
  {
   "cell_type": "code",
   "execution_count": 97,
   "id": "57bf04ea-676c-4ff8-8657-631041093b3f",
   "metadata": {},
   "outputs": [
    {
     "name": "stdout",
     "output_type": "stream",
     "text": [
      "1\n"
     ]
    }
   ],
   "source": [
    "s = {'ram',1,'hari',4.5,3,'shyam',(7,8,9)}\n",
    "print(s.pop())"
   ]
  },
  {
   "cell_type": "code",
   "execution_count": 99,
   "id": "22462b60-81d0-40cd-ab26-fcd3d8835225",
   "metadata": {},
   "outputs": [
    {
     "data": {
      "text/plain": [
       "900"
      ]
     },
     "execution_count": 99,
     "metadata": {},
     "output_type": "execute_result"
    }
   ],
   "source": [
    "x = [1,2,3,900,678]\n",
    "max(x)"
   ]
  },
  {
   "cell_type": "code",
   "execution_count": 101,
   "id": "e59e5689-fbf7-4baa-98ab-47844d0ac9a1",
   "metadata": {},
   "outputs": [
    {
     "data": {
      "text/plain": [
       "1"
      ]
     },
     "execution_count": 101,
     "metadata": {},
     "output_type": "execute_result"
    }
   ],
   "source": [
    "x = [1,2,3,900,678]\n",
    "min(x)"
   ]
  },
  {
   "cell_type": "code",
   "execution_count": 103,
   "id": "668c2482-d5f4-4b10-ab8a-fc7d48b6f404",
   "metadata": {},
   "outputs": [
    {
     "data": {
      "text/plain": [
       "1584"
      ]
     },
     "execution_count": 103,
     "metadata": {},
     "output_type": "execute_result"
    }
   ],
   "source": [
    "x = [1,2,3,900,678]\n",
    "sum(x)"
   ]
  },
  {
   "cell_type": "code",
   "execution_count": 107,
   "id": "f9a51d54-4ba6-46c0-a695-de1469287fd3",
   "metadata": {},
   "outputs": [
    {
     "data": {
      "text/plain": [
       "5"
      ]
     },
     "execution_count": 107,
     "metadata": {},
     "output_type": "execute_result"
    }
   ],
   "source": [
    "x = [1,2,3,900,678]\n",
    "len(x)"
   ]
  },
  {
   "cell_type": "code",
   "execution_count": 109,
   "id": "97f56c98-d290-4962-bb6f-b9a5adc18ffb",
   "metadata": {},
   "outputs": [
    {
     "data": {
      "text/plain": [
       "[1, 2, 3, 678, 900]"
      ]
     },
     "execution_count": 109,
     "metadata": {},
     "output_type": "execute_result"
    }
   ],
   "source": [
    "x = [1,2,3,900,678]\n",
    "sorted(x)  #ascending order"
   ]
  },
  {
   "cell_type": "code",
   "execution_count": 115,
   "id": "68c03ec5-0dfc-414a-8059-4c2978bd063c",
   "metadata": {},
   "outputs": [
    {
     "data": {
      "text/plain": [
       "[900, 678, 3, 2, 1]"
      ]
     },
     "execution_count": 115,
     "metadata": {},
     "output_type": "execute_result"
    }
   ],
   "source": [
    "x = [1,2,3,900,678]\n",
    "sorted(x,reverse = True)  #descending order"
   ]
  },
  {
   "cell_type": "code",
   "execution_count": 123,
   "id": "d7cacc3d-7c4e-4152-a837-7694747d25b4",
   "metadata": {},
   "outputs": [
    {
     "name": "stdout",
     "output_type": "stream",
     "text": [
      "hi\n"
     ]
    }
   ],
   "source": [
    "# flow control\n",
    "# if ..... else.....\n",
    "age = 17\n",
    "if age > 18:  #indentation 4 spaces or 1 tab\n",
    "    print(\"unauthorized\")\n",
    "    print(\"hello\")\n",
    "\n",
    "print(\"hi\")"
   ]
  }
 ],
 "metadata": {
  "kernelspec": {
   "display_name": "Python 3 (ipykernel)",
   "language": "python",
   "name": "python3"
  },
  "language_info": {
   "codemirror_mode": {
    "name": "ipython",
    "version": 3
   },
   "file_extension": ".py",
   "mimetype": "text/x-python",
   "name": "python",
   "nbconvert_exporter": "python",
   "pygments_lexer": "ipython3",
   "version": "3.12.4"
  }
 },
 "nbformat": 4,
 "nbformat_minor": 5
}
