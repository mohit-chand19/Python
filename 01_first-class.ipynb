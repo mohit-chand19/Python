{
 "cells": [
  {
   "cell_type": "code",
   "execution_count": 7,
   "id": "c64de8ee-8065-452f-bc8a-ed4538e9f251",
   "metadata": {},
   "outputs": [
    {
     "name": "stdout",
     "output_type": "stream",
     "text": [
      "3\n"
     ]
    }
   ],
   "source": [
    "x = 1\n",
    "y = 2\n",
    "sum = x + y\n",
    "print(sum)"
   ]
  },
  {
   "cell_type": "code",
   "execution_count": 11,
   "id": "bf4aa5f0-64ba-437a-a916-4778ac45bacd",
   "metadata": {},
   "outputs": [
    {
     "name": "stdout",
     "output_type": "stream",
     "text": [
      "Ram\n"
     ]
    }
   ],
   "source": [
    "x = 'Ram'\n",
    "x = \"Ram\"\n",
    "x = \"\"\"Ram\"\"\"\n",
    "x = '''Ram'''\n",
    "print(x)"
   ]
  },
  {
   "cell_type": "code",
   "execution_count": 15,
   "id": "6114904c-3b6d-47ac-889e-6671689480db",
   "metadata": {},
   "outputs": [
    {
     "name": "stdout",
     "output_type": "stream",
     "text": [
      "<class 'list'>\n"
     ]
    }
   ],
   "source": [
    "x = [1,2,3,4]\n",
    "print(type(x))"
   ]
  },
  {
   "cell_type": "code",
   "execution_count": 39,
   "id": "e7453954-1b0f-4804-984c-58f03f34cba3",
   "metadata": {},
   "outputs": [
    {
     "name": "stdout",
     "output_type": "stream",
     "text": [
      "<class 'tuple'>\n"
     ]
    }
   ],
   "source": [
    "x = (1,2,3,4)\n",
    "print(type(x))"
   ]
  },
  {
   "cell_type": "code",
   "execution_count": 43,
   "id": "a4b52a89-5036-4083-a745-ce237d127517",
   "metadata": {},
   "outputs": [
    {
     "name": "stdout",
     "output_type": "stream",
     "text": [
      "<class 'set'>\n"
     ]
    }
   ],
   "source": [
    "x = {1,2,3,4}\n",
    "print(type(x))"
   ]
  },
  {
   "cell_type": "code",
   "execution_count": null,
   "id": "8f84f761-13d0-47a4-be9f-a4beb65302d9",
   "metadata": {},
   "outputs": [
    {
     "name": "stdout",
     "output_type": "stream",
     "text": [
      "{'name': 'ram', 'age': 21, 'address': 'ktm'}\n",
      "<class 'dict'>\n"
     ]
    }
   ],
   "source": [
    "person = {\n",
    "    \"name\" : \"ram\",\n",
    "    \"age\" : 21,\n",
    "    \"address\" : \"ktm\"\n",
    "}\n",
    "print(person)\n",
    "print(type(person))"
   ]
  },
  {
   "cell_type": "code",
   "execution_count": 60,
   "id": "c00767cb-fa05-4668-b24d-c3b1271045c4",
   "metadata": {},
   "outputs": [
    {
     "name": "stdout",
     "output_type": "stream",
     "text": [
      "Enter first number 5\n",
      "Enter second number 6\n"
     ]
    },
    {
     "name": "stdout",
     "output_type": "stream",
     "text": [
      "11\n"
     ]
    }
   ],
   "source": [
    "x = int(input(\"Enter first number\"))\n",
    "y = int(input(\"Enter second number\"))\n",
    "sum = x + y\n",
    "print(sum)"
   ]
  },
  {
   "cell_type": "code",
   "execution_count": 66,
   "id": "718e5c82-7465-4262-92c4-ddbbe4c3142c",
   "metadata": {},
   "outputs": [
    {
     "data": {
      "text/plain": [
       "True"
      ]
     },
     "execution_count": 66,
     "metadata": {},
     "output_type": "execute_result"
    }
   ],
   "source": [
    "5 >= 5"
   ]
  },
  {
   "cell_type": "code",
   "execution_count": 70,
   "id": "e1483c7c-ff38-4a1b-9728-c00bcabdf301",
   "metadata": {},
   "outputs": [],
   "source": [
    "# small bracket\n",
    "# and \n",
    "# or"
   ]
  },
  {
   "cell_type": "code",
   "execution_count": 78,
   "id": "d19b39de-7545-4c59-af3f-6464b654b164",
   "metadata": {},
   "outputs": [
    {
     "name": "stdout",
     "output_type": "stream",
     "text": [
      "140735573670360\n",
      "140735573670360\n"
     ]
    },
    {
     "data": {
      "text/plain": [
       "True"
      ]
     },
     "execution_count": 78,
     "metadata": {},
     "output_type": "execute_result"
    }
   ],
   "source": [
    "x =2 \n",
    "y =2\n",
    "print(id(x))\n",
    "print(id(y))\n",
    "x is y"
   ]
  },
  {
   "cell_type": "code",
   "execution_count": 84,
   "id": "e6435ecc-cdf8-45a7-8045-8f5027cd1f70",
   "metadata": {},
   "outputs": [
    {
     "data": {
      "text/plain": [
       "False"
      ]
     },
     "execution_count": 84,
     "metadata": {},
     "output_type": "execute_result"
    }
   ],
   "source": [
    "'rm' in 'ramesh'"
   ]
  },
  {
   "cell_type": "code",
   "execution_count": 90,
   "id": "c8a26ab1-a4f1-4901-ad61-d75631cc619a",
   "metadata": {},
   "outputs": [
    {
     "data": {
      "text/plain": [
       "'g'"
      ]
     },
     "execution_count": 90,
     "metadata": {},
     "output_type": "execute_result"
    }
   ],
   "source": [
    "s = \"This is string.\"\n",
    "s[-2]"
   ]
  },
  {
   "cell_type": "code",
   "execution_count": 102,
   "id": "3c68ab9a-2d49-45bb-9b3c-637b9fba68dc",
   "metadata": {},
   "outputs": [
    {
     "data": {
      "text/plain": [
       "'course.'"
      ]
     },
     "execution_count": 102,
     "metadata": {},
     "output_type": "execute_result"
    }
   ],
   "source": [
    "s = \"This is pyhton course.\"\n",
    "s[0:4]\n",
    "s[-7:]"
   ]
  },
  {
   "cell_type": "code",
   "execution_count": 106,
   "id": "03ebb682-6af7-4482-a5c7-c5533ee0707d",
   "metadata": {},
   "outputs": [
    {
     "data": {
      "text/plain": [
       "'This'"
      ]
     },
     "execution_count": 106,
     "metadata": {},
     "output_type": "execute_result"
    }
   ],
   "source": [
    "s = \"This is pyhton course.\"\n",
    "s[:4]\n"
   ]
  },
  {
   "cell_type": "code",
   "execution_count": 110,
   "id": "6c6cc78f-f5b3-4eb9-9387-a21d2cc7e914",
   "metadata": {},
   "outputs": [
    {
     "data": {
      "text/plain": [
       "'Ti sp'"
      ]
     },
     "execution_count": 110,
     "metadata": {},
     "output_type": "execute_result"
    }
   ],
   "source": [
    "s = \"This is pyhton course.\"\n",
    "s[0:10:2]  #start:stop:step"
   ]
  },
  {
   "cell_type": "code",
   "execution_count": 126,
   "id": "b3f137b4-f05f-4678-8a64-a48063546e68",
   "metadata": {},
   "outputs": [
    {
     "data": {
      "text/plain": [
       "'.esruoc nothyp si sihT'"
      ]
     },
     "execution_count": 126,
     "metadata": {},
     "output_type": "execute_result"
    }
   ],
   "source": [
    "s = \"This is pyhton course.\"\n",
    "s[-1::-1]"
   ]
  },
  {
   "cell_type": "code",
   "execution_count": 130,
   "id": "8584b3b6-126e-492c-8b7a-84ae11662173",
   "metadata": {},
   "outputs": [
    {
     "name": "stdout",
     "output_type": "stream",
     "text": [
      "MOHIT\n"
     ]
    }
   ],
   "source": [
    "s = \"Mohit\"\n",
    "print(s.upper())\n"
   ]
  },
  {
   "cell_type": "code",
   "execution_count": 134,
   "id": "ae088d7a-9996-4619-ad86-c3f65e9176c3",
   "metadata": {},
   "outputs": [
    {
     "data": {
      "text/plain": [
       "'kivi'"
      ]
     },
     "execution_count": 134,
     "metadata": {},
     "output_type": "execute_result"
    }
   ],
   "source": [
    "# list\n",
    "fruit = ['mango','banana','orange','kivi']\n",
    "fruit[-1]"
   ]
  },
  {
   "cell_type": "code",
   "execution_count": 138,
   "id": "df62abf3-1ef1-4aab-90f5-0dfad50efed6",
   "metadata": {},
   "outputs": [
    {
     "data": {
      "text/plain": [
       "3"
      ]
     },
     "execution_count": 138,
     "metadata": {},
     "output_type": "execute_result"
    }
   ],
   "source": [
    "x = [1,[2,[3,4,5],6],7,8,9]\n",
    "x[1][1][0]"
   ]
  },
  {
   "cell_type": "code",
   "execution_count": 142,
   "id": "a398e021-87f7-4cab-82e9-606488f87677",
   "metadata": {},
   "outputs": [
    {
     "data": {
      "text/plain": [
       "['mango', 'banana', 'orange', 'kivi', 'grapes']"
      ]
     },
     "execution_count": 142,
     "metadata": {},
     "output_type": "execute_result"
    }
   ],
   "source": [
    "fruit = ['mango','banana','orange','kivi']\n",
    "fruit.append(\"grapes\")\n",
    "fruit"
   ]
  },
  {
   "cell_type": "code",
   "execution_count": 148,
   "id": "8bbd93bb-c508-4446-83aa-f1aa598d2c37",
   "metadata": {},
   "outputs": [
    {
     "data": {
      "text/plain": [
       "['mango', 'banana', 'orange']"
      ]
     },
     "execution_count": 148,
     "metadata": {},
     "output_type": "execute_result"
    }
   ],
   "source": [
    "fruit = ['mango','banana','orange','kivi']\n",
    "fruit.pop()\n",
    "fruit"
   ]
  },
  {
   "cell_type": "code",
   "execution_count": 154,
   "id": "2bdc5313-a99a-4fdc-8703-f2eb76cc2b0c",
   "metadata": {},
   "outputs": [
    {
     "data": {
      "text/plain": [
       "('mango', 'banana', 'orange', 'kivi')"
      ]
     },
     "execution_count": 154,
     "metadata": {},
     "output_type": "execute_result"
    }
   ],
   "source": [
    "#tuple => immutable datastructure => cannot be changed\n",
    "fruit = ('mango','banana','orange','kivi')\n",
    "fruit"
   ]
  },
  {
   "cell_type": "code",
   "execution_count": 166,
   "id": "376ed541-7542-45f4-8ab8-d7baa3c6d467",
   "metadata": {},
   "outputs": [
    {
     "data": {
      "text/plain": [
       "'Mohit'"
      ]
     },
     "execution_count": 166,
     "metadata": {},
     "output_type": "execute_result"
    }
   ],
   "source": [
    "# dictionary\n",
    "person = {\n",
    "    \"id\": 1,\n",
    "    \"name\" : \"Mohit\",\n",
    "    \"age\" : 21,\n",
    "    \"salary\" : 200000,\n",
    "    \"contact\" : 298400000\n",
    "}\n",
    "person[\"id\"]\n",
    "person[\"name\"]"
   ]
  }
 ],
 "metadata": {
  "kernelspec": {
   "display_name": "Python 3 (ipykernel)",
   "language": "python",
   "name": "python3"
  },
  "language_info": {
   "codemirror_mode": {
    "name": "ipython",
    "version": 3
   },
   "file_extension": ".py",
   "mimetype": "text/x-python",
   "name": "python",
   "nbconvert_exporter": "python",
   "pygments_lexer": "ipython3",
   "version": "3.12.4"
  }
 },
 "nbformat": 4,
 "nbformat_minor": 5
}
