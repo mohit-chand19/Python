{
 "cells": [
  {
   "cell_type": "code",
   "execution_count": 3,
   "id": "7f93bbbe-959f-4643-87a6-4dfbf13feb21",
   "metadata": {},
   "outputs": [
    {
     "name": "stdout",
     "output_type": "stream",
     "text": [
      "1\n",
      "2\n",
      "3\n",
      "4\n",
      "5\n"
     ]
    }
   ],
   "source": [
    "#for loop\n",
    "\n",
    "x = [1,2,3,4,5]\n",
    "\n",
    "for i in x:\n",
    "    print(i)"
   ]
  },
  {
   "cell_type": "code",
   "execution_count": 19,
   "id": "8608f6eb-60cf-4350-8b45-753c0aa49ee8",
   "metadata": {},
   "outputs": [
    {
     "name": "stdout",
     "output_type": "stream",
     "text": [
      "Sum is 15\n"
     ]
    }
   ],
   "source": [
    "x = [1,2,3,4,5]\n",
    "sum = 0\n",
    "for i in x:\n",
    "    sum += i\n",
    "\n",
    "print(f\"Sum is {sum}\")"
   ]
  },
  {
   "cell_type": "code",
   "execution_count": 21,
   "id": "2e025e30-1d46-441e-9087-e43af002ac3b",
   "metadata": {},
   "outputs": [
    {
     "name": "stdout",
     "output_type": "stream",
     "text": [
      "Multiplication is 120\n"
     ]
    }
   ],
   "source": [
    "x = [1,2,3,4,5]\n",
    "multiplication = 1\n",
    "for i in x:\n",
    "    multiplication *= i\n",
    "\n",
    "print(f\"Multiplication is {multiplication}\")"
   ]
  },
  {
   "cell_type": "code",
   "execution_count": 13,
   "id": "0c549e59-0661-4b09-817c-4d347ac7731f",
   "metadata": {},
   "outputs": [
    {
     "name": "stdout",
     "output_type": "stream",
     "text": [
      "[1, 4, 9, 16, 25]\n"
     ]
    }
   ],
   "source": [
    "x = [1,2,3,4,5]\n",
    "square = []\n",
    "for i in x:\n",
    "    square.append(i ** 2)\n",
    "print(square)"
   ]
  },
  {
   "cell_type": "code",
   "execution_count": 17,
   "id": "05e0ce63-5f8b-4669-a8da-afa8ad7ed2f0",
   "metadata": {},
   "outputs": [
    {
     "name": "stdout",
     "output_type": "stream",
     "text": [
      "['odd', 'even', 'odd', 'even', 'odd']\n"
     ]
    }
   ],
   "source": [
    "x = [1,2,3,4,5]\n",
    "out = []\n",
    "for i in x:\n",
    "    if i%2 == 0:\n",
    "        out.append('even')\n",
    "    else:\n",
    "        out.append('odd')\n",
    "\n",
    "print(out)"
   ]
  },
  {
   "cell_type": "code",
   "execution_count": 33,
   "id": "40cf3f37-50e4-4608-a17d-f10f3b1c64f9",
   "metadata": {},
   "outputs": [
    {
     "name": "stdout",
     "output_type": "stream",
     "text": [
      "[11, 12, 24, 1, 2, 3, 6, 7, 19, 8, 9, 10]\n"
     ]
    }
   ],
   "source": [
    "x = [11,12,24,1,2,3,1,6,2,7,1,11,19,3,8,9,10,11,12,24,1,2,3,8]\n",
    "out = []\n",
    "for i in x:\n",
    "    if not(i in out):\n",
    "        out.append(i)\n",
    "\n",
    "print(out)"
   ]
  },
  {
   "cell_type": "code",
   "execution_count": 39,
   "id": "ce6d5fec-e2a2-443b-8b3e-edf0397cba22",
   "metadata": {},
   "outputs": [
    {
     "name": "stdout",
     "output_type": "stream",
     "text": [
      "4\n"
     ]
    }
   ],
   "source": [
    "name = 'rAmesh pradhan'\n",
    "count = 0\n",
    "\n",
    "for i in name.upper():\n",
    "    if i in 'AEIOU':\n",
    "        count += 1\n",
    "\n",
    "print(count)    "
   ]
  },
  {
   "cell_type": "code",
   "execution_count": 45,
   "id": "259a8a15-1aed-43ea-ac9d-7cd154dd7d46",
   "metadata": {},
   "outputs": [
    {
     "name": "stdout",
     "output_type": "stream",
     "text": [
      "dict_values([99, 55, 77])\n",
      "231\n"
     ]
    }
   ],
   "source": [
    "marks = {'Alan':99,'Bil':55,'Cory':77}\n",
    "sum = 0\n",
    "scores = marks.values()\n",
    "print(scores)\n",
    "for i in scores:\n",
    "    sum += i\n",
    "\n",
    "print(sum)"
   ]
  },
  {
   "cell_type": "code",
   "execution_count": 59,
   "id": "c7b378c4-5cdd-40f1-9aa3-5b83e19686de",
   "metadata": {},
   "outputs": [
    {
     "name": "stdout",
     "output_type": "stream",
     "text": [
      "{'Alan': 4, 'Bil': 3, 'ramesh': 6, 'corry': 5, 'ram': 3, 'shyam bahadur': 13, 'gita': 4}\n"
     ]
    }
   ],
   "source": [
    "students = ['Alan','Bil','ramesh','corry','ram','shyam bahadur','gita']\n",
    "output = {}\n",
    "for i in students:\n",
    "    output.update({i: len(i)})\n",
    "print(output)"
   ]
  },
  {
   "cell_type": "code",
   "execution_count": 61,
   "id": "58fa7c7b-7979-4d64-9112-aae40c33fb2d",
   "metadata": {},
   "outputs": [
    {
     "name": "stdout",
     "output_type": "stream",
     "text": [
      "{'Alan': 0, 'Bil': 1, 'ramesh': 2, 'corry': 3, 'ram': 4, 'shyam bahadur': 5, 'gita': 6}\n"
     ]
    }
   ],
   "source": [
    "students = ['Alan','Bil','ramesh','corry','ram','shyam bahadur','gita']\n",
    "output ={}\n",
    "for i in students:\n",
    "    output.update({i: students.index(i)})\n",
    "\n",
    "print(output)"
   ]
  },
  {
   "cell_type": "code",
   "execution_count": 65,
   "id": "49deaa81-8881-467c-a601-57b632493178",
   "metadata": {},
   "outputs": [
    {
     "name": "stdout",
     "output_type": "stream",
     "text": [
      "{'Alan': 0, 'Bil': 1, 'ramesh': 2, 'corry': 3, 'ram': 4, 'shyam bahadur': 5, 'gita': 6}\n"
     ]
    }
   ],
   "source": [
    "#another way\n",
    "students = ['Alan','Bil','ramesh','corry','ram','shyam bahadur','gita']\n",
    "output ={}\n",
    "j= 0\n",
    "for i in students:\n",
    "    output.update({i: j})\n",
    "    j += 1\n",
    "print(output)"
   ]
  },
  {
   "cell_type": "code",
   "execution_count": 67,
   "id": "e0b73794-a285-4d8a-961a-88bbe71452b8",
   "metadata": {},
   "outputs": [
    {
     "data": {
      "text/plain": [
       "[0, 1, 2, 3, 4, 5, 6, 7, 8, 9]"
      ]
     },
     "execution_count": 67,
     "metadata": {},
     "output_type": "execute_result"
    }
   ],
   "source": [
    "# range concept \n",
    "#syntax (start,stop,step)\n",
    "list(range(0,10))"
   ]
  },
  {
   "cell_type": "code",
   "execution_count": 69,
   "id": "65f8de6f-3628-41c1-ab61-ba082a19c0e7",
   "metadata": {},
   "outputs": [
    {
     "name": "stdout",
     "output_type": "stream",
     "text": [
      "{'Alan': 0, 'Bil': 1, 'ramesh': 2, 'corry': 3, 'ram': 4, 'shyam bahadur': 5, 'gita': 6}\n"
     ]
    }
   ],
   "source": [
    "#using range\n",
    "students = ['Alan','Bil','ramesh','corry','ram','shyam bahadur','gita']\n",
    "output = {}\n",
    "for i in range(0,len(students)):\n",
    "    output.update({students[i]: i})\n",
    "\n",
    "print(output)"
   ]
  },
  {
   "cell_type": "code",
   "execution_count": 31,
   "id": "7041f680-8f19-4889-997a-bae7ae7f88d1",
   "metadata": {},
   "outputs": [
    {
     "name": "stdout",
     "output_type": "stream",
     "text": [
      "{'milk': 267.96, 'bread': 343.2, 'butter': 343.2}\n"
     ]
    }
   ],
   "source": [
    "# practice quesition\n",
    "# us_price = {'milk':2.03,'bread':2.6,'butter':2.6}\n",
    "# output in quivalent nepali price\n",
    "\n",
    "us_price = {'milk':2.03,'bread':2.6,'butter':2.6}  #price in us dollar\n",
    "output = {}\n",
    "\n",
    "for i in us_price:\n",
    "    output.update({i:us_price[i]*132})\n",
    "\n",
    "print(output)  #price in nepali rupees"
   ]
  },
  {
   "cell_type": "code",
   "execution_count": 1,
   "id": "3d63517c-be20-4ec2-b981-30fc95a6cf41",
   "metadata": {},
   "outputs": [
    {
     "name": "stdout",
     "output_type": "stream",
     "text": [
      "{'milk': 267.96, 'bread': 343.2, 'butter': 343.2}\n"
     ]
    }
   ],
   "source": [
    "# another way to solve\n",
    "us_price = {'milk':2.03,'bread':2.6,'butter':2.6}  #price in us dollar\n",
    "output = {}\n",
    "\n",
    "for k,v in us_price.items():\n",
    "    output.update({k:v*132})\n",
    "\n",
    "print(output)  #price in nepali rupees"
   ]
  },
  {
   "cell_type": "code",
   "execution_count": 13,
   "id": "0c7bce5d-6fc7-4e43-9eb1-54487b1970fd",
   "metadata": {},
   "outputs": [
    {
     "name": "stdout",
     "output_type": "stream",
     "text": [
      "{'milk': 302.79479999999995, 'bread': 387.816, 'butter': 387.816}\n"
     ]
    }
   ],
   "source": [
    "us_price = {'milk':2.03,'bread':2.6,'butter':2.6}  #price in us dollar\n",
    "output = {}\n",
    "\n",
    "for k,v in us_price.items():\n",
    "    output.update({k:v*132*1.13})\n",
    "\n",
    "print(output)  #price in nepali rupees"
   ]
  },
  {
   "cell_type": "code",
   "execution_count": 21,
   "id": "4391cedf-3c71-4bb8-a513-b0ad8b9c629d",
   "metadata": {},
   "outputs": [
    {
     "name": "stdout",
     "output_type": "stream",
     "text": [
      "{'milk': 302.79479999999995, 'bread': 387.816, 'butter': 387.816, 'meat': 792.0, 'mobile': 79200.0, 'television': 53856.0}\n"
     ]
    }
   ],
   "source": [
    "us_price = {'milk':2.03,'bread':2.6,'butter':2.6,'meat':5,'mobile':500,'television':340}\n",
    "output = {}\n",
    "for k,v in us_price.items():\n",
    "    if v < 5:\n",
    "        output.update({k:v*132*1.13})\n",
    "    else:\n",
    "        output.update({k:v*132*1.20})\n",
    "\n",
    "print(output)"
   ]
  },
  {
   "cell_type": "code",
   "execution_count": 33,
   "id": "1f37485f-308a-4ca7-9e39-adf2be085329",
   "metadata": {},
   "outputs": [
    {
     "name": "stdout",
     "output_type": "stream",
     "text": [
      "Hello\n"
     ]
    }
   ],
   "source": [
    "# pass,continue,break\n",
    "age = 17\n",
    "if age < 18:\n",
    "    pass   #pass syntax helps not getting error or bypass syntax\n",
    "print('Hello')"
   ]
  },
  {
   "cell_type": "code",
   "execution_count": 37,
   "id": "cd49cabf-3402-4de9-a4ce-4ad06ce48e01",
   "metadata": {},
   "outputs": [
    {
     "name": "stdout",
     "output_type": "stream",
     "text": [
      "30\n"
     ]
    }
   ],
   "source": [
    "numbers = [1,2,6,8,9,6,10]\n",
    "sum = 0\n",
    "for i in numbers:\n",
    "    if i!= 6:\n",
    "        sum += i\n",
    "\n",
    "print(sum)"
   ]
  },
  {
   "cell_type": "code",
   "execution_count": 43,
   "id": "efd77ea0-8847-4117-9ea7-ec379c91b9d5",
   "metadata": {},
   "outputs": [
    {
     "name": "stdout",
     "output_type": "stream",
     "text": [
      "30\n"
     ]
    }
   ],
   "source": [
    "# pass satement example\n",
    "numbers = [1,2,6,8,9,6,10]\n",
    "sum = 0\n",
    "for i in numbers:\n",
    "    if i==6:\n",
    "        pass\n",
    "    else:\n",
    "        sum += i\n",
    "\n",
    "print(sum)"
   ]
  },
  {
   "cell_type": "code",
   "execution_count": 49,
   "id": "61ac7312-058c-491d-89f2-7839db9f2eb7",
   "metadata": {},
   "outputs": [
    {
     "name": "stdout",
     "output_type": "stream",
     "text": [
      "30\n"
     ]
    }
   ],
   "source": [
    "# continue satement example\n",
    "numbers = [1,2,6,8,9,6,10]\n",
    "sum = 0\n",
    "for i in numbers:\n",
    "    if i==6:\n",
    "        continue  #skip the currently iterrated item\n",
    "                  #doesnot run anything after that \n",
    "    sum += i\n",
    "    \n",
    "print(sum)"
   ]
  },
  {
   "cell_type": "code",
   "execution_count": 53,
   "id": "1e6952ee-0f4a-4c4e-8211-f87c52adfe1d",
   "metadata": {},
   "outputs": [
    {
     "name": "stdout",
     "output_type": "stream",
     "text": [
      "3\n"
     ]
    }
   ],
   "source": [
    "# break statement example\n",
    "numbers = [1,2,6,8,9,6,10]\n",
    "sum = 0\n",
    "for i in numbers:\n",
    "    if i== 6:\n",
    "        break\n",
    "        # terminate or exit from the current loop\n",
    "    sum += i\n",
    "\n",
    "print(sum)"
   ]
  },
  {
   "cell_type": "code",
   "execution_count": 55,
   "id": "9ca9d96f-d3f5-49a3-bd97-39229f0c78b8",
   "metadata": {},
   "outputs": [
    {
     "name": "stdout",
     "output_type": "stream",
     "text": [
      "ram eats momo\n",
      "ram eats chowmein\n",
      "ram eats thukpa\n",
      "shyam eats momo\n",
      "shyam eats chowmein\n",
      "shyam eats thukpa\n",
      "gita eats momo\n",
      "gita eats chowmein\n",
      "gita eats thukpa\n",
      "sita eats momo\n",
      "sita eats chowmein\n",
      "sita eats thukpa\n"
     ]
    }
   ],
   "source": [
    "names = ['ram','shyam','gita','sita']\n",
    "foods = ['momo','chowmein','thukpa']\n",
    "\n",
    "for i in names:\n",
    "    for j in foods:\n",
    "        print(f\"{i} eats {j}\")\n",
    "\n"
   ]
  }
 ],
 "metadata": {
  "kernelspec": {
   "display_name": "Python 3 (ipykernel)",
   "language": "python",
   "name": "python3"
  },
  "language_info": {
   "codemirror_mode": {
    "name": "ipython",
    "version": 3
   },
   "file_extension": ".py",
   "mimetype": "text/x-python",
   "name": "python",
   "nbconvert_exporter": "python",
   "pygments_lexer": "ipython3",
   "version": "3.12.4"
  }
 },
 "nbformat": 4,
 "nbformat_minor": 5
}
