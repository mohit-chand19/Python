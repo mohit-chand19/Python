{
 "cells": [
  {
   "cell_type": "code",
   "execution_count": 3,
   "id": "4ad19551-2bcb-40a6-aa83-f7690411cf62",
   "metadata": {},
   "outputs": [
    {
     "name": "stdout",
     "output_type": "stream",
     "text": [
      "ram eats momo\n",
      "ram eats chowmein\n",
      "ram eats thukpa\n",
      "shyam eats momo\n",
      "shyam eats chowmein\n",
      "shyam eats thukpa\n",
      "gita eats momo\n",
      "gita eats chowmein\n",
      "gita eats thukpa\n",
      "sita eats momo\n",
      "sita eats chowmein\n",
      "sita eats thukpa\n"
     ]
    }
   ],
   "source": [
    "# nested loop example \n",
    "names = ['ram','shyam','gita','sita']\n",
    "foods = ['momo','chowmein','thukpa']\n",
    "\n",
    "for i in names:\n",
    "    for j in foods:\n",
    "        print(f\"{i} eats {j}\")"
   ]
  },
  {
   "cell_type": "code",
   "execution_count": 1,
   "id": "3d8d470e-cc2c-46a0-a3ea-dce5bde114af",
   "metadata": {},
   "outputs": [
    {
     "name": "stdout",
     "output_type": "stream",
     "text": [
      "ram\n",
      "shyam\n",
      "sita\n",
      "gita\n"
     ]
    }
   ],
   "source": [
    "# while loop example\n",
    "names = ['ram','shyam','sita','gita']\n",
    "i = 0  # initializer\n",
    "\n",
    "while i < len(names):  #condition \n",
    "    print(names[i])\n",
    "    i += 1             # incrementer / decrementer"
   ]
  },
  {
   "cell_type": "code",
   "execution_count": 13,
   "id": "c2d11c2f-d54c-4f8d-bd89-bcf5b8c93093",
   "metadata": {},
   "outputs": [
    {
     "name": "stdout",
     "output_type": "stream",
     "text": [
      "10\n"
     ]
    }
   ],
   "source": [
    "numbers = [1,2,3,4]\n",
    "i = 0\n",
    "sum = 0\n",
    "while i < len(numbers):\n",
    "    sum += numbers[i]\n",
    "    i+=1\n",
    "\n",
    "print(sum)"
   ]
  },
  {
   "cell_type": "code",
   "execution_count": 15,
   "id": "39403354-79d8-426a-b730-994405cb9c4e",
   "metadata": {},
   "outputs": [],
   "source": [
    "# for \n",
    "# => finite iteration\n",
    "# => if you know how many times you are iterating\n",
    "\n",
    "# while\n",
    "# => infinite iteartion\n",
    "# => if you don't know how many times you iterating"
   ]
  },
  {
   "cell_type": "code",
   "execution_count": 3,
   "id": "e01c9a12-1a6b-4df5-b986-1b3348711fab",
   "metadata": {},
   "outputs": [
    {
     "name": "stdin",
     "output_type": "stream",
     "text": [
      "Enter your age: 19\n"
     ]
    },
    {
     "name": "stdout",
     "output_type": "stream",
     "text": [
      "Welcome\n"
     ]
    }
   ],
   "source": [
    "age = int(input(\"Enter your age:\"))\n",
    "\n",
    "while age < 18:\n",
    "     age= int(input(\"Enter your age:\"))\n",
    "\n",
    "print('Welcome')\n"
   ]
  },
  {
   "cell_type": "code",
   "execution_count": 11,
   "id": "f2f60030-c4d5-4d20-a40f-d501908494ac",
   "metadata": {},
   "outputs": [
    {
     "name": "stdout",
     "output_type": "stream",
     "text": [
      "3\n"
     ]
    }
   ],
   "source": [
    "# function example\n",
    "\n",
    "def add():  #defining function\n",
    "    x = 1\n",
    "    y = 2\n",
    "    sum = x + y\n",
    "    print(sum)\n",
    "\n",
    "add()  #calling function"
   ]
  },
  {
   "cell_type": "code",
   "execution_count": 69,
   "id": "d54a66bd-8d8a-4ed8-8993-27ec0d99fc46",
   "metadata": {},
   "outputs": [
    {
     "name": "stdout",
     "output_type": "stream",
     "text": [
      "30\n",
      "8\n",
      "12\n"
     ]
    }
   ],
   "source": [
    "def add(x, y):\n",
    "     # x and y are positional arguments / parameters\n",
    "    sum = x + y\n",
    "\n",
    "    print(sum)\n",
    "\n",
    "add(10,20)\n",
    "add(x=5,y=3)\n",
    "add(4,y=8)\n",
    "# add(x=4,5)  # not valid"
   ]
  }
 ],
 "metadata": {
  "kernelspec": {
   "display_name": "Python 3 (ipykernel)",
   "language": "python",
   "name": "python3"
  },
  "language_info": {
   "codemirror_mode": {
    "name": "ipython",
    "version": 3
   },
   "file_extension": ".py",
   "mimetype": "text/x-python",
   "name": "python",
   "nbconvert_exporter": "python",
   "pygments_lexer": "ipython3",
   "version": "3.12.4"
  }
 },
 "nbformat": 4,
 "nbformat_minor": 5
}
