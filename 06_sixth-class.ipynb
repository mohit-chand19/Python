{
 "cells": [
  {
   "cell_type": "code",
   "execution_count": 1,
   "id": "121f6047-bde4-4190-be08-42521a1ee9b9",
   "metadata": {},
   "outputs": [
    {
     "name": "stdout",
     "output_type": "stream",
     "text": [
      "6\n"
     ]
    }
   ],
   "source": [
    "#functions in python\n",
    "def addition(x,y):\n",
    "    # x and y are positional parameters/arguments\n",
    "    sum = x + y\n",
    "    print(sum)\n",
    "\n",
    "addition(4,2)"
   ]
  },
  {
   "cell_type": "code",
   "execution_count": 9,
   "id": "8b05ab1d-173b-450e-b1c0-ed60aedfc13e",
   "metadata": {},
   "outputs": [
    {
     "name": "stdout",
     "output_type": "stream",
     "text": [
      "4\n"
     ]
    }
   ],
   "source": [
    "#functions in python\n",
    "def addition(x,y=0):   #here y = 0 means the default value of y is 0 if not passed\n",
    "    # x and y are positional parameters/arguments\n",
    "    sum = x + y\n",
    "    print(sum)\n",
    "\n",
    "addition(4)"
   ]
  },
  {
   "cell_type": "code",
   "execution_count": 23,
   "id": "7b14af7f-12d7-4e74-a272-8b099f9750eb",
   "metadata": {},
   "outputs": [
    {
     "name": "stdout",
     "output_type": "stream",
     "text": [
      "5\n"
     ]
    }
   ],
   "source": [
    "#functions in python\n",
    "def addition(y,x=0):   #here x = 0 means the default value of x is 0 if not passed\n",
    "    # x and y are positional parameters/arguments\n",
    "    sum = x + y\n",
    "    print(sum)    #this function returns none\n",
    "\n",
    "addition(5)"
   ]
  },
  {
   "cell_type": "code",
   "execution_count": 49,
   "id": "bf067546-e419-424b-88df-b21c840d79ac",
   "metadata": {},
   "outputs": [
    {
     "name": "stdout",
     "output_type": "stream",
     "text": [
      "13\n",
      "Help on function addition in module __main__:\n",
      "\n",
      "addition(x, y)\n",
      "    add two numbers x and y and return its sum\n",
      "\n"
     ]
    }
   ],
   "source": [
    "#functions in python\n",
    "def addition(x,y):  \n",
    "    \"\"\"add two numbers x and y and return its sum\"\"\"\n",
    "    sum = x + y\n",
    "    return sum\n",
    "\n",
    "add = addition(5,8)\n",
    "print(add)\n",
    "\n",
    "help(addition)"
   ]
  },
  {
   "cell_type": "code",
   "execution_count": 45,
   "id": "3fa8c1f2-8da1-4d0e-a770-80ee2e49ded5",
   "metadata": {},
   "outputs": [],
   "source": [
    "from math import sqrt"
   ]
  },
  {
   "cell_type": "code",
   "execution_count": 51,
   "id": "243d58a5-97c7-42e9-aaa0-8e7d4c74f0bd",
   "metadata": {},
   "outputs": [
    {
     "name": "stdout",
     "output_type": "stream",
     "text": [
      "Help on built-in function sqrt in module math:\n",
      "\n",
      "sqrt(x, /)\n",
      "    Return the square root of x.\n",
      "\n"
     ]
    }
   ],
   "source": [
    "help(sqrt)"
   ]
  },
  {
   "cell_type": "code",
   "execution_count": 57,
   "id": "131fd503-907b-42d1-8b87-0aab444d0d73",
   "metadata": {},
   "outputs": [
    {
     "name": "stdout",
     "output_type": "stream",
     "text": [
      "9 1 20 1.25\n"
     ]
    }
   ],
   "source": [
    "def arithoperation(x,y):\n",
    "    sum = x + y\n",
    "    sub = x - y\n",
    "    mul = x * y\n",
    "    div = x / y\n",
    "\n",
    "    # return sum   # here the function only returns sum value after that it exits here\n",
    "    return sum, sub, mul, div   #we can return multiple values using tuple in function\n",
    "\n",
    "# arithoperation(5,4)\n",
    "#tuple unpacking\n",
    "addition, subtraction, multiplication, division = arithoperation(5,4)\n",
    "print(addition, subtraction, multiplication, division)"
   ]
  },
  {
   "cell_type": "code",
   "execution_count": 59,
   "id": "bc2d98bd-7651-4f1f-9f4f-129b39b2a6c6",
   "metadata": {},
   "outputs": [
    {
     "data": {
      "text/plain": [
       "9"
      ]
     },
     "execution_count": 59,
     "metadata": {},
     "output_type": "execute_result"
    }
   ],
   "source": [
    "def addition(x, y, z):\n",
    "    sum = x + y + z\n",
    "    return sum\n",
    "\n",
    "addition(2,3,4)"
   ]
  },
  {
   "cell_type": "code",
   "execution_count": 93,
   "id": "7b106f41-ebd5-4cfc-a5c6-bb1db4535257",
   "metadata": {},
   "outputs": [
    {
     "data": {
      "text/plain": [
       "18"
      ]
     },
     "execution_count": 93,
     "metadata": {},
     "output_type": "execute_result"
    }
   ],
   "source": [
    "def addition2(*args):   #any number of positional arguments\n",
    "    # print(args,type(args))\n",
    "    sum = 0\n",
    "    for i in args:\n",
    "        sum += i\n",
    "\n",
    "    return sum\n",
    "\n",
    "addition2(3,4,5,6)"
   ]
  },
  {
   "cell_type": "code",
   "execution_count": 105,
   "id": "e38da052-d505-4a0d-9801-21c66debca05",
   "metadata": {},
   "outputs": [
    {
     "data": {
      "text/plain": [
       "18"
      ]
     },
     "execution_count": 105,
     "metadata": {},
     "output_type": "execute_result"
    }
   ],
   "source": [
    "# addition2(x=1,y=2)  #error because keyword arguments are not supported\n",
    "# to solve this problem we can define keyword argument while defining arguments\n",
    "def addition2(**kwargs):   #any number of keyword arguments\n",
    "    sum = 0\n",
    "    for i in kwargs.values():\n",
    "        sum += i\n",
    "    return sum\n",
    "\n",
    "addition2(x=3,y=4,z=5,a=6)  # now we can pass keyword arguments\n",
    "#but it doesnot support positional argument\n",
    "# addition2(x=3,y=4,5,6)  positional argument follows keyword argument error occurs"
   ]
  },
  {
   "cell_type": "code",
   "execution_count": 107,
   "id": "f0750803-5fa8-4da7-8676-40e43ad0f51d",
   "metadata": {},
   "outputs": [
    {
     "data": {
      "text/plain": [
       "27"
      ]
     },
     "execution_count": 107,
     "metadata": {},
     "output_type": "execute_result"
    }
   ],
   "source": [
    "def addition3(*args,**kwargs):  #using this we can pass both positional as well as keyword arguments\n",
    "    sum =0\n",
    "    for i in args:\n",
    "        sum += i\n",
    "\n",
    "    for i in kwargs.values():\n",
    "        sum += i\n",
    "\n",
    "    return sum\n",
    "\n",
    "addition3(3,4,5,y=6,z=9)"
   ]
  },
  {
   "cell_type": "code",
   "execution_count": 109,
   "id": "78fb808b-8c88-4f29-b3cf-7791c74cc20e",
   "metadata": {},
   "outputs": [
    {
     "name": "stdout",
     "output_type": "stream",
     "text": [
      "hello\n"
     ]
    }
   ],
   "source": [
    "def hello():\n",
    "    xyz = 'hello'  #local scope => since inside function\n",
    "    print(xyz)\n",
    "\n",
    "hello()\n",
    "# print(xyz) error because not accessed outside function"
   ]
  },
  {
   "cell_type": "code",
   "execution_count": 113,
   "id": "e116629c-c8c6-440d-ae99-4c4a218dfe46",
   "metadata": {},
   "outputs": [
    {
     "name": "stdout",
     "output_type": "stream",
     "text": [
      "shyam\n"
     ]
    }
   ],
   "source": [
    "name = 'shyam'  #global scope ==> file level / mobile level\n",
    "print(name)"
   ]
  },
  {
   "cell_type": "code",
   "execution_count": 115,
   "id": "9498dc5b-1eab-4780-841a-c83aa898ff56",
   "metadata": {},
   "outputs": [],
   "source": [
    "#  there three types of scope in python\n",
    "# builtin scope => anywherre in python file => print, min, max sorted\n",
    "# global scope => created variable within python file/module\n",
    "# local scope => inside function"
   ]
  },
  {
   "cell_type": "code",
   "execution_count": 117,
   "id": "6c80df9c-eb5f-43c0-85bc-a9c37e3359ee",
   "metadata": {},
   "outputs": [
    {
     "name": "stdout",
     "output_type": "stream",
     "text": [
      "5\n"
     ]
    }
   ],
   "source": [
    "x = 5\n",
    "def hello():\n",
    "    print(x) # it first searches in local scope and then => global scope ==> 5\n",
    "\n",
    "hello()"
   ]
  },
  {
   "cell_type": "code",
   "execution_count": 119,
   "id": "9329e41b-225a-4600-b2be-7bc1c5f84e39",
   "metadata": {},
   "outputs": [
    {
     "ename": "NameError",
     "evalue": "name 'h' is not defined",
     "output_type": "error",
     "traceback": [
      "\u001b[1;31m---------------------------------------------------------------------------\u001b[0m",
      "\u001b[1;31mNameError\u001b[0m                                 Traceback (most recent call last)",
      "Cell \u001b[1;32mIn[119], line 5\u001b[0m\n\u001b[0;32m      2\u001b[0m \u001b[38;5;28;01mdef\u001b[39;00m \u001b[38;5;21mhello\u001b[39m():\n\u001b[0;32m      3\u001b[0m     \u001b[38;5;28mprint\u001b[39m(h) \u001b[38;5;66;03m# it first searches in local scope and then => global scope ==> and then builtin scope => error bcoz not found anywhere\u001b[39;00m\n\u001b[1;32m----> 5\u001b[0m hello()\n",
      "Cell \u001b[1;32mIn[119], line 3\u001b[0m, in \u001b[0;36mhello\u001b[1;34m()\u001b[0m\n\u001b[0;32m      2\u001b[0m \u001b[38;5;28;01mdef\u001b[39;00m \u001b[38;5;21mhello\u001b[39m():\n\u001b[1;32m----> 3\u001b[0m     \u001b[38;5;28mprint\u001b[39m(h)\n",
      "\u001b[1;31mNameError\u001b[0m: name 'h' is not defined"
     ]
    }
   ],
   "source": [
    "x = 5\n",
    "def hello():\n",
    "    print(h) # it first searches in local scope and then => global scope ==> and then builtin scope => error bcoz not found anywhere\n",
    "\n",
    "hello()"
   ]
  },
  {
   "cell_type": "code",
   "execution_count": 121,
   "id": "a341db26-89a6-44e8-87b1-7c854835abb0",
   "metadata": {},
   "outputs": [
    {
     "name": "stdout",
     "output_type": "stream",
     "text": [
      "5\n",
      "2\n",
      "5\n"
     ]
    }
   ],
   "source": [
    "x = 5 # global scope\n",
    "def hello():\n",
    "    x=2 #local scope => 2\n",
    "    print(x)\n",
    "\n",
    "print(x) #global scope => 5\n",
    "hello()\n",
    "print(x) #global scope =>5"
   ]
  },
  {
   "cell_type": "code",
   "execution_count": 123,
   "id": "ba648c1b-f954-4dab-91b2-93a3cc13aa8d",
   "metadata": {},
   "outputs": [
    {
     "name": "stdout",
     "output_type": "stream",
     "text": [
      "5\n"
     ]
    },
    {
     "ename": "UnboundLocalError",
     "evalue": "cannot access local variable 'x' where it is not associated with a value",
     "output_type": "error",
     "traceback": [
      "\u001b[1;31m---------------------------------------------------------------------------\u001b[0m",
      "\u001b[1;31mUnboundLocalError\u001b[0m                         Traceback (most recent call last)",
      "Cell \u001b[1;32mIn[123], line 7\u001b[0m\n\u001b[0;32m      4\u001b[0m     \u001b[38;5;28mprint\u001b[39m(x)\n\u001b[0;32m      6\u001b[0m \u001b[38;5;28mprint\u001b[39m(x) \u001b[38;5;66;03m#global scope => 5\u001b[39;00m\n\u001b[1;32m----> 7\u001b[0m hello()\n\u001b[0;32m      8\u001b[0m \u001b[38;5;28mprint\u001b[39m(x)\n",
      "Cell \u001b[1;32mIn[123], line 3\u001b[0m, in \u001b[0;36mhello\u001b[1;34m()\u001b[0m\n\u001b[0;32m      2\u001b[0m \u001b[38;5;28;01mdef\u001b[39;00m \u001b[38;5;21mhello\u001b[39m():\n\u001b[1;32m----> 3\u001b[0m     x\u001b[38;5;241m=\u001b[39mx\u001b[38;5;241m+\u001b[39m\u001b[38;5;241m2\u001b[39m   \u001b[38;5;66;03m# error bcoz x cannot be found in local scope  #local scope => 2\u001b[39;00m\n\u001b[0;32m      4\u001b[0m     \u001b[38;5;28mprint\u001b[39m(x)\n",
      "\u001b[1;31mUnboundLocalError\u001b[0m: cannot access local variable 'x' where it is not associated with a value"
     ]
    }
   ],
   "source": [
    "x = 5 # global scope\n",
    "def hello():\n",
    "    x=x+2   # error bcoz x cannot be found in local scope  #local scope => 2\n",
    "    print(x)\n",
    "\n",
    "print(x) #global scope => 5\n",
    "hello()\n",
    "print(x) #global scope =>5"
   ]
  },
  {
   "cell_type": "code",
   "execution_count": 127,
   "id": "255ee2b6-c3d6-4d67-8b61-895cb2f2dc40",
   "metadata": {},
   "outputs": [
    {
     "name": "stdout",
     "output_type": "stream",
     "text": [
      "5\n",
      "7\n",
      "5\n"
     ]
    }
   ],
   "source": [
    "x = 5 # global scope\n",
    "def hello():\n",
    "    y=x+2   # local scope => global scope => 5\n",
    "    print(y)\n",
    "\n",
    "print(x) #global scope => 5\n",
    "hello()\n",
    "print(x) #global scope =>5"
   ]
  },
  {
   "cell_type": "code",
   "execution_count": 129,
   "id": "52998ed8-9ef5-4c2c-a91d-4a553c460b90",
   "metadata": {},
   "outputs": [
    {
     "name": "stdout",
     "output_type": "stream",
     "text": [
      "5\n",
      "7\n",
      "7\n"
     ]
    }
   ],
   "source": [
    "x = 5  #global\n",
    "def hello():\n",
    "    global x\n",
    "    x = x+2  #global variable changed \n",
    "    print(x) # 7\n",
    "\n",
    "print(x) #global scope=>5\n",
    "hello()\n",
    "print(x)#global scope => global changed so 7"
   ]
  },
  {
   "cell_type": "code",
   "execution_count": 145,
   "id": "2cf79e24-7378-4543-b825-082d503a3ac9",
   "metadata": {},
   "outputs": [
    {
     "data": {
      "text/plain": [
       "120"
      ]
     },
     "execution_count": 145,
     "metadata": {},
     "output_type": "execute_result"
    }
   ],
   "source": [
    "#function to calculate factorial\n",
    "\n",
    "def factorial(x):\n",
    "    fact = 1\n",
    "    for i in range(x, 0, -1):\n",
    "        fact *= i  # 5*4*3*2*1\n",
    "\n",
    "    return fact\n",
    "\n",
    "factorial(5)"
   ]
  },
  {
   "cell_type": "code",
   "execution_count": 149,
   "id": "1f953f6f-45a8-4430-9ac3-40ab0f96e48d",
   "metadata": {},
   "outputs": [
    {
     "name": "stdout",
     "output_type": "stream",
     "text": [
      "hello\n"
     ]
    }
   ],
   "source": [
    "#recursion => calling itself\n",
    "\n",
    "def hello():   #it is not a recursive function => no base condition defined \n",
    "    print('hello')\n",
    "    hello()\n",
    "\n",
    "hello()"
   ]
  },
  {
   "cell_type": "code",
   "execution_count": null,
   "id": "00e75710-e4ab-4e08-a7e2-52572a9fa745",
   "metadata": {},
   "outputs": [],
   "source": [
    "# recursive function\n",
    "# 1. Call itself\n",
    "# 2. base condition /terminating condition /returning conditon"
   ]
  }
 ],
 "metadata": {
  "kernelspec": {
   "display_name": "Python 3 (ipykernel)",
   "language": "python",
   "name": "python3"
  },
  "language_info": {
   "codemirror_mode": {
    "name": "ipython",
    "version": 3
   },
   "file_extension": ".py",
   "mimetype": "text/x-python",
   "name": "python",
   "nbconvert_exporter": "python",
   "pygments_lexer": "ipython3",
   "version": "3.12.4"
  }
 },
 "nbformat": 4,
 "nbformat_minor": 5
}
