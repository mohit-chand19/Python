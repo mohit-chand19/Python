{
 "cells": [
  {
   "cell_type": "code",
   "execution_count": 11,
   "id": "4341c7ea-9817-43b7-ab01-84f81af45d36",
   "metadata": {},
   "outputs": [
    {
     "name": "stdin",
     "output_type": "stream",
     "text": [
      "enter maks: 78\n"
     ]
    },
    {
     "name": "stdout",
     "output_type": "stream",
     "text": [
      "pass\n"
     ]
    }
   ],
   "source": [
    "# marks < 45 fail\n",
    "marks = int(input(\"enter maks:\"))\n",
    "if marks < 45:\n",
    "    print('Failed')\n",
    "if marks >=45:\n",
    "    print('pass')"
   ]
  },
  {
   "cell_type": "code",
   "execution_count": 25,
   "id": "976389de-56f0-4fe7-babf-6df2952ec0e5",
   "metadata": {},
   "outputs": [
    {
     "name": "stdin",
     "output_type": "stream",
     "text": [
      "Enter value of x:  5\n",
      "Enter value of y:  5\n"
     ]
    },
    {
     "name": "stdout",
     "output_type": "stream",
     "text": [
      "Both are equal\n"
     ]
    }
   ],
   "source": [
    "x = int(input('Enter value of x: '))\n",
    "y = int(input('Enter value of y: '))\n",
    "if x > y:\n",
    "    print('x is greater than y')\n",
    "if y > x:\n",
    "    print('y is greater than x')\n",
    "if x == y:\n",
    "    print('Both are equal')"
   ]
  },
  {
   "cell_type": "code",
   "execution_count": 29,
   "id": "25fdb6cd-7f47-40cc-8d6f-7d8e9cbf8f86",
   "metadata": {},
   "outputs": [
    {
     "name": "stdin",
     "output_type": "stream",
     "text": [
      "enter maks: 67\n"
     ]
    },
    {
     "name": "stdout",
     "output_type": "stream",
     "text": [
      "pass\n"
     ]
    }
   ],
   "source": [
    "marks = int(input(\"enter maks:\"))\n",
    "if marks < 45:\n",
    "    print('Failed')\n",
    "else:\n",
    "    print('pass')"
   ]
  },
  {
   "cell_type": "code",
   "execution_count": 33,
   "id": "3789fafc-746f-47f3-8db2-c76593366f66",
   "metadata": {},
   "outputs": [
    {
     "name": "stdin",
     "output_type": "stream",
     "text": [
      "Enter value of x:  6\n",
      "Enter value of y:  6\n"
     ]
    },
    {
     "name": "stdout",
     "output_type": "stream",
     "text": [
      "Both are equal\n"
     ]
    }
   ],
   "source": [
    "x = int(input('Enter value of x: '))\n",
    "y = int(input('Enter value of y: '))\n",
    "if x > y:\n",
    "    print('x is greater than y')\n",
    "elif y > x:\n",
    "    print('y is greater than x')\n",
    "else :\n",
    "    print('Both are equal')"
   ]
  },
  {
   "cell_type": "code",
   "execution_count": 41,
   "id": "cc1b329b-20ed-4ab9-80c1-08e7cbf129ca",
   "metadata": {},
   "outputs": [
    {
     "name": "stdin",
     "output_type": "stream",
     "text": [
      "Enter value of x:  3\n",
      "Enter value of y:  4\n",
      "Enter value of z:  4\n"
     ]
    },
    {
     "name": "stdout",
     "output_type": "stream",
     "text": [
      "all are equal\n"
     ]
    }
   ],
   "source": [
    "x = int(input('Enter value of x: '))\n",
    "y = int(input('Enter value of y: '))\n",
    "z = int(input('Enter value of z: '))\n",
    "if x > y:\n",
    "    if x>z:\n",
    "        print('x is greater')\n",
    "    else:\n",
    "        print('z is greater')\n",
    "elif y>z:\n",
    "    print('y is greater')\n",
    "else:\n",
    "    print('all are equal')"
   ]
  },
  {
   "cell_type": "code",
   "execution_count": null,
   "id": "a592bef7-6487-4b24-8f43-3a631b0b5833",
   "metadata": {},
   "outputs": [],
   "source": [
    "x = int(input('Enter value of x: '))\n",
    "y = int(input('Enter value of y: '))\n",
    "z = int(input('Enter value of z: '))\n",
    "if x>y and x>z:\n",
    "    print('x is greater')\n",
    "elif y>x and y>z:\n",
    "    print('y is greater')\n",
    "elif z>x and z>y:\n",
    "    print('y is greater')\n",
    "else:\n",
    "    print('all are equal')"
   ]
  },
  {
   "cell_type": "code",
   "execution_count": 43,
   "id": "b0243ea3-ac6d-45e9-8aa5-7d4329ad3fd5",
   "metadata": {},
   "outputs": [
    {
     "name": "stdout",
     "output_type": "stream",
     "text": [
      "Hello1\n"
     ]
    }
   ],
   "source": [
    "if True:\n",
    "    print('Hello1')\n",
    "elif True:\n",
    "    print('Hello2')\n",
    "elif True:\n",
    "    print('Hello3')\n",
    "elif True:\n",
    "    print('Hello4')\n",
    "else :\n",
    "    print('Hello5')"
   ]
  },
  {
   "cell_type": "code",
   "execution_count": 45,
   "id": "6090cab3-fd2a-4734-a10f-ec584c862968",
   "metadata": {},
   "outputs": [
    {
     "name": "stdout",
     "output_type": "stream",
     "text": [
      "Hello2\n"
     ]
    }
   ],
   "source": [
    "if False:\n",
    "    print('Hello1')\n",
    "elif True:\n",
    "    print('Hello2')\n",
    "elif True:\n",
    "    print('Hello3')\n",
    "elif True:\n",
    "    print('Hello4')\n",
    "else :\n",
    "    print('Hello5')"
   ]
  },
  {
   "cell_type": "code",
   "execution_count": 47,
   "id": "767acc0d-65ab-4e8d-9c24-7b16fc586a2d",
   "metadata": {},
   "outputs": [
    {
     "name": "stdout",
     "output_type": "stream",
     "text": [
      "Hello2\n",
      "Hello3\n",
      "Hello4\n"
     ]
    }
   ],
   "source": [
    "if False:\n",
    "    print('Hello1')\n",
    "if True:\n",
    "    print('Hello2')\n",
    "if True:\n",
    "    print('Hello3')\n",
    "if True:\n",
    "    print('Hello4')"
   ]
  },
  {
   "cell_type": "code",
   "execution_count": 53,
   "id": "6931dd96-02f5-4144-8642-c6a040f18598",
   "metadata": {},
   "outputs": [
    {
     "name": "stdin",
     "output_type": "stream",
     "text": [
      "Enter username: admin\n",
      "Enter password: admin123\n"
     ]
    },
    {
     "name": "stdout",
     "output_type": "stream",
     "text": [
      "Can login\n"
     ]
    }
   ],
   "source": [
    "username = input('Enter username:')\n",
    "password = input('Enter password:')\n",
    "if username == 'admin' and password == 'admin123':\n",
    "    print('Can login')\n",
    "else:\n",
    "    print('cannot login')"
   ]
  },
  {
   "cell_type": "code",
   "execution_count": 55,
   "id": "4d34ac98-23cb-42fd-a5c0-5c8021369b1a",
   "metadata": {},
   "outputs": [
    {
     "name": "stdin",
     "output_type": "stream",
     "text": [
      "Enter username: fmrf\n",
      "Enter password: fdef\n",
      "Enter secret key: secretkey123\n"
     ]
    },
    {
     "name": "stdout",
     "output_type": "stream",
     "text": [
      "Can login\n"
     ]
    }
   ],
   "source": [
    "username = input('Enter username:')\n",
    "password = input('Enter password:')\n",
    "secret = input('Enter secret key:')\n",
    "if username == 'admin' and password == 'admin123' or secret == 'secretkey123':\n",
    "    print('Can login')\n",
    "else:\n",
    "    print('cannot login')"
   ]
  },
  {
   "cell_type": "code",
   "execution_count": 61,
   "id": "5a5449c8-1bc3-43f3-b134-e781832b749d",
   "metadata": {},
   "outputs": [
    {
     "name": "stdin",
     "output_type": "stream",
     "text": [
      "Enter username: admin\n",
      "Enter password: admin123\n"
     ]
    },
    {
     "name": "stdout",
     "output_type": "stream",
     "text": [
      "Can login\n"
     ]
    }
   ],
   "source": [
    "username = input('Enter username:')\n",
    "password = input('Enter password:')\n",
    "if username == 'admin' and password == 'admin123':\n",
    "    print('Can login')\n",
    "else:\n",
    "    secret = input('Enter secret key:')\n",
    "    if secret == 'secretkey123':\n",
    "        print('can login')\n",
    "    else:\n",
    "        print('cannot login')"
   ]
  },
  {
   "cell_type": "code",
   "execution_count": 65,
   "id": "8d132d96-047a-4075-8895-d0dbcf08f0bc",
   "metadata": {},
   "outputs": [
    {
     "name": "stdin",
     "output_type": "stream",
     "text": [
      "enter first subject mark: 55\n",
      "enter second subject mark: 67\n",
      "enter third subject mark: 89\n",
      "enter fourth subject mark: 90\n",
      "enter fifth subject mark: 99\n",
      "enter sixth subject mark: 90\n",
      "enter seventh subject mark: 89\n",
      "enter eighth subject mark: 34\n"
     ]
    },
    {
     "name": "stdout",
     "output_type": "stream",
     "text": [
      "76.625\n",
      "first division\n"
     ]
    }
   ],
   "source": [
    "mark1 = int(input('enter first subject mark:'))\n",
    "mark2 = int(input('enter second subject mark:'))\n",
    "mark3 = int(input('enter third subject mark:'))\n",
    "mark4 = int(input('enter fourth subject mark:'))\n",
    "mark5 = int(input('enter fifth subject mark:'))\n",
    "mark6 = int(input('enter sixth subject mark:'))\n",
    "mark7 = int(input('enter seventh subject mark:'))\n",
    "mark8 = int(input('enter eighth subject mark:'))\n",
    "\n",
    "avg = (mark1+mark2+mark3+mark4+mark5+mark6+mark7+mark8)/8\n",
    "print(avg)\n",
    "if avg >= 80:\n",
    "    print('distiction')\n",
    "elif avg <80 and avg >= 60:\n",
    "    print('first division')\n",
    "elif avg <60 and avg >= 50:\n",
    "    print('second division')\n",
    "elif avg < 50 and avg >=35:\n",
    "    print('third division')\n",
    "elif avg < 35:\n",
    "    print(' fail')\n",
    "else:\n",
    "    print('invalid marks')  "
   ]
  },
  {
   "cell_type": "code",
   "execution_count": 3,
   "id": "ee9a0dbc-b22f-437d-98b9-24ad51c57c82",
   "metadata": {},
   "outputs": [
    {
     "name": "stdin",
     "output_type": "stream",
     "text": [
      "Enter the age: 69\n"
     ]
    },
    {
     "name": "stdout",
     "output_type": "stream",
     "text": [
      "very old\n"
     ]
    }
   ],
   "source": [
    "age = int(input('Enter the age:'))\n",
    "if age>=1 and age<13:\n",
    "    print(\"Teenage\")\n",
    "elif age>=13 and age < 18:\n",
    "    print(\"Young\")\n",
    "elif  age>= 18 and age<35:\n",
    "    print(\"Adult\")\n",
    "elif age>=35 and age <45:\n",
    "    print(\"Old\")\n",
    "elif age>=45:\n",
    "    print(\"very old\")\n",
    "else:\n",
    "    print(\"invalid age\")"
   ]
  }
 ],
 "metadata": {
  "kernelspec": {
   "display_name": "Python 3 (ipykernel)",
   "language": "python",
   "name": "python3"
  },
  "language_info": {
   "codemirror_mode": {
    "name": "ipython",
    "version": 3
   },
   "file_extension": ".py",
   "mimetype": "text/x-python",
   "name": "python",
   "nbconvert_exporter": "python",
   "pygments_lexer": "ipython3",
   "version": "3.12.4"
  }
 },
 "nbformat": 4,
 "nbformat_minor": 5
}
